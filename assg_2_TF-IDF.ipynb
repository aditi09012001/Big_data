{
 "cells": [
  {
   "cell_type": "markdown",
   "id": "6b3a02da",
   "metadata": {},
   "source": [
    "Aditi singh (202318005)"
   ]
  },
  {
   "cell_type": "code",
   "execution_count": 1,
   "id": "f8e86bf8",
   "metadata": {},
   "outputs": [],
   "source": [
    "from sklearn.datasets import fetch_20newsgroups"
   ]
  },
  {
   "cell_type": "code",
   "execution_count": 2,
   "id": "e2bc56f7",
   "metadata": {},
   "outputs": [
    {
     "name": "stdout",
     "output_type": "stream",
     "text": [
      "From: twillis@ec.ecn.purdue.edu (Thomas E Willis)\n",
      "Subject: PB questions...\n",
      "Organization: Purdue University Engineering Computer Network\n",
      "Distribution: usa\n",
      "Lines: 36\n",
      "\n",
      "well folks, my mac plus finally gave up the ghost this weekend after\n",
      "starting life as a 512k way back in 1985.  sooo, i'm in the market for a\n",
      "new machine a bit sooner than i intended to be...\n",
      "\n",
      "i'm looking into picking up a powerbook 160 or maybe 180 and have a bunch\n",
      "of questions that (hopefully) somebody can answer:\n",
      "\n",
      "* does anybody know any dirt on when the next round of powerbook\n",
      "introductions are expected?  i'd heard the 185c was supposed to make an\n",
      "appearence \"this summer\" but haven't heard anymore on it - and since i\n",
      "don't have access to macleak, i was wondering if anybody out there had\n",
      "more info...\n",
      "\n",
      "* has anybody heard rumors about price drops to the powerbook line like the\n",
      "ones the duo's just went through recently?\n",
      "\n",
      "* what's the impression of the display on the 180?  i could probably swing\n",
      "a 180 if i got the 80Mb disk rather than the 120, but i don't really have\n",
      "a feel for how much \"better\" the display is (yea, it looks great in the\n",
      "store, but is that all \"wow\" or is it really that good?).  could i solicit\n",
      "some opinions of people who use the 160 and 180 day-to-day on if its worth\n",
      "taking the disk size and money hit to get the active display?  (i realize\n",
      "this is a real subjective question, but i've only played around with the\n",
      "machines in a computer store breifly and figured the opinions of somebody\n",
      "who actually uses the machine daily might prove helpful).\n",
      "\n",
      "* how well does hellcats perform?  ;)\n",
      "\n",
      "thanks a bunch in advance for any info - if you could email, i'll post a\n",
      "summary (news reading time is at a premium with finals just around the\n",
      "corner... :( )\n",
      "--\n",
      "Tom Willis  \\  twillis@ecn.purdue.edu    \\    Purdue Electrical Engineering\n",
      "---------------------------------------------------------------------------\n",
      "\"Convictions are more dangerous enemies of truth than lies.\"  - F. W.\n",
      "Nietzsche\n",
      "\n"
     ]
    }
   ],
   "source": [
    "data = fetch_20newsgroups(subset=\"train\")\n",
    "print(data.data[2])\n"
   ]
  },
  {
   "cell_type": "code",
   "execution_count": null,
   "id": "0f063b7d",
   "metadata": {},
   "outputs": [],
   "source": [
    "from sklearn.feature_extraction.text import TfidfVectorizer"
   ]
  },
  {
   "cell_type": "code",
   "execution_count": null,
   "id": "8658c083",
   "metadata": {},
   "outputs": [],
   "source": [
    "vectorizer = TfidfVectorizer()\n",
    "x = vectorizer.fit_transform(data.data)\n",
    "print(x)"
   ]
  },
  {
   "cell_type": "code",
   "execution_count": null,
   "id": "7964e5ea",
   "metadata": {},
   "outputs": [],
   "source": [
    "import numpy as np\n",
    "     "
   ]
  },
  {
   "cell_type": "code",
   "execution_count": null,
   "id": "2527b1d8",
   "metadata": {},
   "outputs": [],
   "source": [
    "from sklearn.metrics.pairwise import cosine_similarity\n",
    "\n",
    "def cosine(a1, a2):\n",
    "\n",
    "    v1 = np.array(a1)\n",
    "    v2 = np.array(a2)\n",
    "\n",
    "    a1 = v1.reshape(1, -1)\n",
    "    a2 = v2.reshape(1, -1)\n",
    "\n",
    "    dot_product = np.dot(a1, a2.T)\n",
    "    magnitude_a1 = np.linalg.norm(a1)\n",
    "    magnitude_a2 = np.linalg.norm(a2)\n",
    "    cosine_similarity_value = dot_product / (magnitude_a1 * magnitude_a2)\n",
    "\n",
    "    return cosine_similarity_value[0, 0]\n",
    "\n",
    "\n",
    "\n",
    "a1 = [0.3, 0.7, 0.6]\n",
    "a2 = [0.1, 0.3, 0.5]\n",
    "\n",
    "similarity = cosine(a1, a2)\n",
    "print(similarity)"
   ]
  },
  {
   "cell_type": "code",
   "execution_count": null,
   "id": "3550a065",
   "metadata": {},
   "outputs": [],
   "source": [
    "newsgroups = fetch_20newsgroups(subset='all', remove=('headers', 'footers', 'quotes'))\n",
    "     "
   ]
  },
  {
   "cell_type": "code",
   "execution_count": null,
   "id": "8910a356",
   "metadata": {},
   "outputs": [],
   "source": [
    "def similarity(input_document, documents, vectorizer, top_n=5):\n",
    "\n",
    "    inputvector = vectorizer.transform([input_document])\n",
    "    documents = vectorizer.transform(documents)\n",
    "    similarities = cosine_similarity(inputvector, documents)\n",
    "    sorted = similarities.argsort(axis=1)[:, ::-1]\n",
    "    top_n = sorted[0][:top_n]\n",
    "    results = [(documents[i], similarities[0, i]) for i in top_n]\n",
    "    return results\n",
    "     "
   ]
  },
  {
   "cell_type": "code",
   "execution_count": null,
   "id": "35b32fb5",
   "metadata": {},
   "outputs": [],
   "source": [
    "input_document = \"Your input document goes here. This is the document for which you want to find similar documents.\"\n",
    "vectorizer = TfidfVectorizer(stop_words='english')\n",
    "tfidf_matrix = vectorizer.fit_transform(newsgroups.data)\n",
    "similar_documents = similarity(input_document, newsgroups.data, vectorizer)\n",
    "for i, (doc, similarity) in enumerate(similar_documents, start=1):\n",
    "    print(f\"Rank {i}: Similarity = {similarity:.4f}\\n{doc}\\n{'-'*50}\\n\")\n"
   ]
  }
 ],
 "metadata": {
  "kernelspec": {
   "display_name": "Python 3 (ipykernel)",
   "language": "python",
   "name": "python3"
  },
  "language_info": {
   "codemirror_mode": {
    "name": "ipython",
    "version": 3
   },
   "file_extension": ".py",
   "mimetype": "text/x-python",
   "name": "python",
   "nbconvert_exporter": "python",
   "pygments_lexer": "ipython3",
   "version": "3.11.4"
  }
 },
 "nbformat": 4,
 "nbformat_minor": 5
}
